{
  "nbformat": 4,
  "nbformat_minor": 0,
  "metadata": {
    "colab": {
      "provenance": []
    },
    "kernelspec": {
      "name": "python3",
      "display_name": "Python 3"
    },
    "language_info": {
      "name": "python"
    }
  },
  "cells": [
    {
      "cell_type": "markdown",
      "source": [
        "# 1. What is a RESTful API?\n",
        "  \n",
        "  * A RESTful API follows the REST architecture and uses standard HTTP methods like GET, POST, PUT, and DELETE to perform operations on resources represented by URLs. It's stateless, meaning each request is independent and carries all needed information. REST APIs are widely used in web applications to allow communication between client and server, often exchanging data in JSON format. They are scalable, simple, and language-independent.\n",
        "\n",
        "# 2. Explain the concept of API specification?\n",
        "\n",
        "  * An API specification is a detailed blueprint describing how an API works. It outlines available endpoints, request and response formats, parameters, authentication methods, and expected behavior. Specifications like OpenAPI (formerly Swagger) standardize communication between teams, allow automatic documentation generation, and assist in testing and validation. They help developers understand how to use the API properly and ensure consistency and reliability when multiple clients or teams interact with the same API.\n",
        "\n",
        "# 3. What is Flask, and why is it popular for building APIs?\n",
        "\n",
        "  * Flask is a lightweight Python web framework. It’s popular for building APIs because:\n",
        "    * Minimal setup and easy to learn\n",
        "    * Flexible and modular\n",
        "    * Has extensions like Flask-RESTful, Flask-SQLAlchemy, etc.\n",
        "    * Well-suited for small to medium APIs\n",
        "\n",
        "# 4. What is routing in Flask?\n",
        "\n",
        "  * Routing in Flask connects URL paths to Python functions. When a user visits a specific URL, Flask uses the route to determine which function should handle the request. Routes are defined using the @app.route() decorator. For example, @app.route('/hello') will call a function when that URL is accessed. Routing supports dynamic segments and HTTP method restrictions. It is central to handling different API endpoints in a Flask application.\n",
        "\n",
        "# 5. How do you create a simple Flask application?\n",
        "\n",
        "  * To create a simple Flask app, import Flask, initialize the app, define a route using @app.route(), and run the app. Here's a basic example:\n",
        "\n",
        "         from flask import Flask  \n",
        "         app = Flask(__name__)  \n",
        "         @app.route('/')  \n",
        "         def home(): return 'Hello, Flask!'  \n",
        "         if __name__ == '__main__':  \n",
        "           app.run()\n",
        "\n",
        "# 6. What are HTTP methods used in RESTful APIs?\n",
        "\n",
        "  * RESTful APIs use HTTP methods to define operations on resources:\n",
        "\n",
        "    * GET retrieves data\n",
        "    * POST creates new data\n",
        "    * PUT updates entire existing data\n",
        "    * PATCH partially updates data\n",
        "    * DELETE removes data\n",
        "  \n",
        "  These methods allow clear intent and follow web standards, making APIs predictable and easy to use. They are assigned to routes in Flask using the methods argument in the @app.route() decorator.\n",
        "\n",
        "# 7. What is the purpose of the @app.route() decorator in Flask?\n",
        "\n",
        "  * The @app.route() decorator in Flask maps a URL to a view function. When a request is made to that URL, Flask executes the associated function. It also allows you to specify HTTP methods (GET, POST, etc.). For example, @app.route('/user', methods=['GET']) links the /user path to a function that handles GET requests. This makes routing clean, declarative, and easy to manage within your Flask application.\n",
        "\n",
        "# 8. What is the difference between GET and POST HTTP methods?\n",
        "\n",
        "  * GET requests are used to retrieve data from the server and should have no side effects. Data is sent via URL parameters and can be cached or bookmarked.\n",
        "  * POST requests are used to send data to the server to create or update a resource. Data is sent in the request body and is not cached or bookmarked.\n",
        "  * GET is read-only, while POST is used for actions that change server state.\n",
        "  \n",
        "# 9. How do you handle errors in Flask APIs?\n",
        "\n",
        "  * In Flask, errors are handled using custom error handlers or the abort() function.\n",
        "  * Use @app.errorhandler() to define responses for common errors like 404 (Not Found) or 500 (Server Error).\n",
        "\n",
        "            @app.errorhandler(404)\n",
        "            def not_found(e):\n",
        "                return {\"error\": \"Not Found\"}, 404\n",
        "\n",
        "# 10. How do you connect Flask to a SQL database?\n",
        "\n",
        "  * To connect Flask to a SQL database, use the Flask-SQLAlchemy extension. First, install it and configure the database URI in your app settings.\n",
        "\n",
        "           app.config['SQLALCHEMY_DATABASE_URI'] = 'sqlite:///data.db'\n",
        "           db = SQLAlchemy(app)\n",
        "\n",
        "  Then define models using Python classes. This allows you to interact with the database using object-oriented code instead of raw SQL. SQLAlchemy handles migrations, queries, and database sessions efficiently.         \n",
        "\n",
        "# 11. What is the role of Flask-SQLAlchemy?\n",
        "\n",
        "  * Flask-SQLAlchemy is an extension that integrates SQLAlchemy (a powerful Object Relational Mapper) with Flask. It allows you to define database tables using Python classes and interact with the database using Python code instead of SQL queries. You can create, query, update, and delete records easily. It also manages database sessions and connections efficiently. Flask-SQLAlchemy simplifies working with databases in Flask applications and supports multiple database backends like SQLite, MySQL, and PostgreSQL.\n",
        "\n",
        "# 12. What are Flask blueprints, and how are they useful?\n",
        "\n",
        "  * Flask blueprints are components that let you structure your application into smaller, modular parts. Instead of writing all routes in one file, you can group related routes, templates, and static files into separate blueprint files. Blueprints are useful for large applications because they promote better organization, scalability, and reusability. For example, you might create a users blueprint for all user-related routes and an admin blueprint for admin features.\n",
        "\n",
        "# 13. What is the purpose of Flask's request object?\n",
        "\n",
        "  * Flask’s request object lets you access incoming HTTP request data such as form fields, JSON payloads, headers, cookies, query parameters, and files.\n",
        "           Example:\n",
        "           data = request.json\n",
        "  \n",
        "  This object is automatically available in routes handling client requests. It allows you to read inputs submitted via POST or GET and is essential for building dynamic APIs that accept user input or form submissions from frontend applications.\n",
        "\n",
        "# 14. How do you create a RESTful API endpoint using Flask?\n",
        "\n",
        "  * To create a RESTful endpoint, define a route using @app.route() and a function to handle specific HTTP methods:\n",
        "          \n",
        "          @app.route('/api/items', methods=['GET'])\n",
        "          def get_items():\n",
        "             return jsonify({\"items\": [\"apple\", \"banana\"]})\n",
        "\n",
        "  This defines a GET endpoint at /api/items. You can use request data and handle methods like POST, PUT, and DELETE for CRUD operations. Flask-RESTful can also be used for class-based, more structured endpoints.\n",
        "\n",
        "# 15. What is the purpose of Flask's jsonify() function?\n",
        "\n",
        "  * Flask's jsonify() function converts Python dictionaries, lists, or objects into JSON responses. It also sets the correct Content-Type header (application/json) automatically.\n",
        "          Example:\n",
        "          return jsonify({\"message\": \"Success\"})\n",
        "\n",
        "  This function is preferred over manually using json.dumps() because it handles encoding, headers, and special Flask context features. It's essential for returning structured responses in REST APIs built with Flask.\n",
        "# 16. Explain Flask’s url_for() function?\n",
        "\n",
        "  * url_for() generates the URL for a view function based on its name. It’s useful for creating dynamic, maintainable URLs instead of hardcoding them.        \n",
        "              For example:\n",
        "              url_for('home')\n",
        "\n",
        "  returns / if home() is routed to /. It also supports arguments for dynamic routes:\n",
        "\n",
        "              url_for('profile', username='john')\n",
        "\n",
        "  This helps when route paths change, as your code won’t break—you only need to update the function name mapping.\n",
        "# 17. How does Flask handle static files (CSS, JavaScript, etc.)?\n",
        "\n",
        "  * Flask automatically serves static files from a folder named static in your project. You can link them in HTML using url_for():\n",
        "\n",
        "           <link rel=\"stylesheet\" href=\"{{ url_for('static', filename='style.css') }}\">\n",
        "\n",
        "  This ensures correct file paths regardless of app structure. The static folder is accessible by default at /static/filename. You place all assets like CSS, JS, and images there for use in your web pages or templates.\n",
        "\n",
        "# 18. What is an API specification, and how does it help in building a Flask API?\n",
        "\n",
        "  * An API specification is a formal document describing API behavior—routes, parameters, request formats, responses, and error codes. Tools like OpenAPI or Swagger help define and visualize these specifications. In Flask, following a specification ensures your API is well-documented, testable, and consistent across development teams. It also enables automatic generation of client libraries, testing tools, and documentation, improving development speed, maintainability, and integration with other services.\n",
        "\n",
        "# 19. What are HTTP status codes, and why are they important in a Flask API?\n",
        "\n",
        "  * HTTP status codes indicate the result of a request. Flask APIs use them to communicate success, errors, or other conditions.\n",
        "    \n",
        "    Examples:\n",
        "\n",
        "    200 OK: success\n",
        "    \n",
        "    201 Created: resource created\n",
        "    \n",
        "    400 Bad Request: invalid input\n",
        "    \n",
        "    404 Not Found: resource missing\n",
        "    \n",
        "    500 Internal Server Error: unexpected server issue\n",
        "  \n",
        "  Using appropriate status codes makes your API easier to debug and more intuitive for clients, improving user experience and reliability.\n",
        "\n",
        "# 20. How do you handle POST requests in Flask?\n",
        "\n",
        "  * To handle POST requests in Flask, define a route that accepts POST:\n",
        "\n",
        "         @app.route('/submit', methods=['POST'])\n",
        "         def submit():\n",
        "              data = request.json\n",
        "              return jsonify(data), 201\n",
        "\n",
        "  The request object lets you access data sent in the body as JSON or form data. You can then process it—like saving to a database or validating it. Returning a JSON response and status code completes the interaction between client and server.\n",
        "\n",
        "# 21. How would you secure a Flask API?\n",
        "\n",
        "  * To secure a Flask API, use HTTPS to encrypt communication, validate and sanitize user inputs to prevent injection attacks, and implement authentication and authorization. Token-based authentication (like JWT) ensures only authorized users access resources. Rate limiting (e.g., with Flask-Limiter) prevents abuse. Cross-Origin Resource Sharing (CORS) should be configured properly. Flask extensions like Flask-JWT-Extended or Flask-Login help manage user sessions and secure endpoints efficiently.\n",
        "\n",
        "# 22. What is the significance of the Flask-RESTful extension?\n",
        "\n",
        "  * Flask-RESTful is an extension that simplifies building RESTful APIs with Flask. It uses a class-based approach with Resource classes, making your code more organized and scalable. It supports routing, automatic request parsing, error handling, and response formatting.\n",
        "           Example:\n",
        "\n",
        "          class Hello(Resource):\n",
        "                def get(self):\n",
        "                    return {'hello': 'world'}\n",
        "\n",
        "  It’s great for larger APIs or when you want cleaner separation of logic and easier method handling per endpoint.\n",
        "\n",
        "# 23. What is the role of Flask’s session object?\n",
        "\n",
        "  * Flask’s session object allows you to store user-specific data (like login status or preferences) across requests. Data is stored in a secure cookie signed with your app’s secret key.\n",
        "         Example:\n",
        "\n",
        "         session['username'] = 'john'\n",
        "\n",
        "  This helps track users without a database lookup every time. The session persists between requests until the user logs out or the session expires, making it useful for managing user authentication and maintaining state."
      ],
      "metadata": {
        "id": "HWd7VQ7ABxc6"
      }
    },
    {
      "cell_type": "markdown",
      "source": [
        "# 1.  How do you create a basic Flask application?\n",
        ""
      ],
      "metadata": {
        "id": "RqM4sruRVTpK"
      }
    },
    {
      "cell_type": "code",
      "execution_count": 51,
      "metadata": {
        "id": "eP7RXD38BnPB",
        "colab": {
          "base_uri": "https://localhost:8080/"
        },
        "outputId": "9b5c06b7-ecf1-49c7-f928-9cda200c467f"
      },
      "outputs": [
        {
          "output_type": "stream",
          "name": "stdout",
          "text": [
            " * Serving Flask app '__main__'\n",
            " * Debug mode: on\n"
          ]
        },
        {
          "output_type": "stream",
          "name": "stderr",
          "text": [
            "INFO:werkzeug:\u001b[31m\u001b[1mWARNING: This is a development server. Do not use it in a production deployment. Use a production WSGI server instead.\u001b[0m\n",
            " * Running on http://127.0.0.1:5000\n",
            "INFO:werkzeug:\u001b[33mPress CTRL+C to quit\u001b[0m\n",
            "INFO:werkzeug: * Restarting with watchdog (inotify)\n"
          ]
        }
      ],
      "source": [
        "from flask import Flask\n",
        "\n",
        "app = Flask(__name__)\n",
        "\n",
        "@app.route('/')\n",
        "def home():\n",
        "    return \"Hello, Flask!\"\n",
        "\n",
        "if __name__ == '__main__':\n",
        "    app.run(debug=True)\n"
      ]
    },
    {
      "cell_type": "markdown",
      "source": [
        "# 2. How do you serve static files like images or CSS in Flask?"
      ],
      "metadata": {
        "id": "9H5sliOBVeE6"
      }
    },
    {
      "cell_type": "code",
      "source": [
        "from flask import Flask, render_template\n",
        "\n",
        "app = Flask(__name__)\n",
        "\n",
        "@app.route('/')\n",
        "def index():\n",
        "    return render_template(\"index.html\")\n",
        "\n",
        "if __name__ == '__main__':\n",
        "    app.run(debug=True)\n"
      ],
      "metadata": {
        "colab": {
          "base_uri": "https://localhost:8080/"
        },
        "id": "0J_lYdgjVisM",
        "outputId": "d9f9c708-a3b3-48de-e146-0fa5e958d420"
      },
      "execution_count": 52,
      "outputs": [
        {
          "output_type": "stream",
          "name": "stdout",
          "text": [
            " * Serving Flask app '__main__'\n",
            " * Debug mode: on\n"
          ]
        },
        {
          "output_type": "stream",
          "name": "stderr",
          "text": [
            "INFO:werkzeug:\u001b[31m\u001b[1mWARNING: This is a development server. Do not use it in a production deployment. Use a production WSGI server instead.\u001b[0m\n",
            " * Running on http://127.0.0.1:5000\n",
            "INFO:werkzeug:\u001b[33mPress CTRL+C to quit\u001b[0m\n",
            "INFO:werkzeug: * Restarting with watchdog (inotify)\n"
          ]
        }
      ]
    },
    {
      "cell_type": "markdown",
      "source": [
        "# 3.  How do you define different routes with different HTTP methods in Flask?"
      ],
      "metadata": {
        "id": "Vt4jd6roVjC1"
      }
    },
    {
      "cell_type": "code",
      "source": [
        "from flask import Flask, request\n",
        "\n",
        "app = Flask(__name__)\n",
        "\n",
        "@app.route('/submit', methods=['GET', 'POST'])\n",
        "def submit():\n",
        "    if request.method == 'POST':\n",
        "        return \"POST request received\"\n",
        "    else:\n",
        "        return \"GET request received\"\n",
        "\n",
        "if __name__ == '__main__':\n",
        "    app.run(debug=True)"
      ],
      "metadata": {
        "colab": {
          "base_uri": "https://localhost:8080/"
        },
        "id": "oMz1LMapVsli",
        "outputId": "52ce46ca-fe6e-4888-822b-d08c508af08c"
      },
      "execution_count": 54,
      "outputs": [
        {
          "output_type": "stream",
          "name": "stdout",
          "text": [
            " * Serving Flask app '__main__'\n",
            " * Debug mode: on\n"
          ]
        },
        {
          "output_type": "stream",
          "name": "stderr",
          "text": [
            "INFO:werkzeug:\u001b[31m\u001b[1mWARNING: This is a development server. Do not use it in a production deployment. Use a production WSGI server instead.\u001b[0m\n",
            " * Running on http://127.0.0.1:5000\n",
            "INFO:werkzeug:\u001b[33mPress CTRL+C to quit\u001b[0m\n",
            "INFO:werkzeug: * Restarting with watchdog (inotify)\n"
          ]
        }
      ]
    },
    {
      "cell_type": "markdown",
      "source": [
        "# 4. How do you render HTML templates in Flask?"
      ],
      "metadata": {
        "id": "1bZhZFZHVtAd"
      }
    },
    {
      "cell_type": "code",
      "source": [
        "from flask import Flask, render_template\n",
        "\n",
        "app = Flask(__name__)\n",
        "\n",
        "@app.route('/')\n",
        "def home():\n",
        "    return render_template('home.html', name=\"Flask User\")\n",
        "\n",
        "if __name__ == '__main__':\n",
        "    app.run(debug=True)\n"
      ],
      "metadata": {
        "colab": {
          "base_uri": "https://localhost:8080/"
        },
        "id": "Kf5hbtfTVzdC",
        "outputId": "3f61a368-694a-4a5d-9b1e-237826f86813"
      },
      "execution_count": 55,
      "outputs": [
        {
          "output_type": "stream",
          "name": "stdout",
          "text": [
            " * Serving Flask app '__main__'\n",
            " * Debug mode: on\n"
          ]
        },
        {
          "output_type": "stream",
          "name": "stderr",
          "text": [
            "INFO:werkzeug:\u001b[31m\u001b[1mWARNING: This is a development server. Do not use it in a production deployment. Use a production WSGI server instead.\u001b[0m\n",
            " * Running on http://127.0.0.1:5000\n",
            "INFO:werkzeug:\u001b[33mPress CTRL+C to quit\u001b[0m\n",
            "INFO:werkzeug: * Restarting with watchdog (inotify)\n"
          ]
        }
      ]
    },
    {
      "cell_type": "markdown",
      "source": [
        "# 5.  How can you generate URLs for routes in Flask using url_for?\n",
        ""
      ],
      "metadata": {
        "id": "rDHKwKWwVzw1"
      }
    },
    {
      "cell_type": "code",
      "source": [
        "from flask import Flask, url_for, redirect\n",
        "\n",
        "app = Flask(__name__)\n",
        "\n",
        "@app.route('/')\n",
        "def home():\n",
        "    return redirect(url_for('profile', username='john'))\n",
        "\n",
        "@app.route('/user/<username>')\n",
        "def profile(username):\n",
        "    return f\"Profile page of {username}\"\n",
        "if __name__ == '__main__':\n",
        "    app.run(debug=True)"
      ],
      "metadata": {
        "colab": {
          "base_uri": "https://localhost:8080/"
        },
        "id": "qxTsSgulV2zC",
        "outputId": "67f8fb77-a468-4df1-e924-d2b556fb83d4"
      },
      "execution_count": 56,
      "outputs": [
        {
          "output_type": "stream",
          "name": "stdout",
          "text": [
            " * Serving Flask app '__main__'\n",
            " * Debug mode: on\n"
          ]
        },
        {
          "output_type": "stream",
          "name": "stderr",
          "text": [
            "INFO:werkzeug:\u001b[31m\u001b[1mWARNING: This is a development server. Do not use it in a production deployment. Use a production WSGI server instead.\u001b[0m\n",
            " * Running on http://127.0.0.1:5000\n",
            "INFO:werkzeug:\u001b[33mPress CTRL+C to quit\u001b[0m\n",
            "INFO:werkzeug: * Restarting with watchdog (inotify)\n"
          ]
        }
      ]
    },
    {
      "cell_type": "markdown",
      "source": [
        "# 6. How do you handle forms in Flask?"
      ],
      "metadata": {
        "id": "1KacH1MdV5HK"
      }
    },
    {
      "cell_type": "code",
      "source": [
        "from flask import Flask, request, render_template\n",
        "\n",
        "app = Flask(__name__)\n",
        "\n",
        "@app.route('/form', methods=['GET', 'POST'])\n",
        "def form():\n",
        "    if request.method == 'POST':\n",
        "        name = request.form['name']\n",
        "        return f\"Hello, {name}!\"\n",
        "    return render_template('form.html')\n",
        "if __name__ == '__main__':\n",
        "    app.run(debug=True)"
      ],
      "metadata": {
        "colab": {
          "base_uri": "https://localhost:8080/"
        },
        "id": "JpaZH1euV9r3",
        "outputId": "e0a11e5e-9c72-42cd-8a27-1871de834dd6"
      },
      "execution_count": 57,
      "outputs": [
        {
          "output_type": "stream",
          "name": "stdout",
          "text": [
            " * Serving Flask app '__main__'\n",
            " * Debug mode: on\n"
          ]
        },
        {
          "output_type": "stream",
          "name": "stderr",
          "text": [
            "INFO:werkzeug:\u001b[31m\u001b[1mWARNING: This is a development server. Do not use it in a production deployment. Use a production WSGI server instead.\u001b[0m\n",
            " * Running on http://127.0.0.1:5000\n",
            "INFO:werkzeug:\u001b[33mPress CTRL+C to quit\u001b[0m\n",
            "INFO:werkzeug: * Restarting with watchdog (inotify)\n"
          ]
        }
      ]
    },
    {
      "cell_type": "markdown",
      "source": [
        "# 7. How can you validate form data in Flask?"
      ],
      "metadata": {
        "id": "lqtAll62V-Fl"
      }
    },
    {
      "cell_type": "code",
      "source": [
        "from flask import Flask, request, render_template\n",
        "\n",
        "app = Flask(__name__)\n",
        "\n",
        "@app.route('/submit', methods=['GET', 'POST'])\n",
        "def submit():\n",
        "    if request.method == 'POST':\n",
        "        name = request.form.get('name')\n",
        "        email = request.form.get('email')\n",
        "\n",
        "        if not name or not email:\n",
        "            return \"Name and email are required!\", 400\n",
        "\n",
        "        # Additional validation (e.g., email format) can be added here\n",
        "\n",
        "        return f\"Hello, {name}! Your email is {email}\"\n",
        "\n",
        "    return render_template('form.html')\n",
        "if __name__ == '__main__':\n",
        "    app.run(debug=True)"
      ],
      "metadata": {
        "colab": {
          "base_uri": "https://localhost:8080/"
        },
        "id": "u5z-4Z1hWDei",
        "outputId": "e9a5dc24-0668-42b5-c7c0-03de88de8e8b"
      },
      "execution_count": 58,
      "outputs": [
        {
          "output_type": "stream",
          "name": "stdout",
          "text": [
            " * Serving Flask app '__main__'\n",
            " * Debug mode: on\n"
          ]
        },
        {
          "output_type": "stream",
          "name": "stderr",
          "text": [
            "INFO:werkzeug:\u001b[31m\u001b[1mWARNING: This is a development server. Do not use it in a production deployment. Use a production WSGI server instead.\u001b[0m\n",
            " * Running on http://127.0.0.1:5000\n",
            "INFO:werkzeug:\u001b[33mPress CTRL+C to quit\u001b[0m\n",
            "INFO:werkzeug: * Restarting with watchdog (inotify)\n"
          ]
        }
      ]
    },
    {
      "cell_type": "markdown",
      "source": [
        "# 8.  How do you manage sessions in Flask?"
      ],
      "metadata": {
        "id": "-Aa5vPEIWD2v"
      }
    },
    {
      "cell_type": "code",
      "source": [
        "from flask import Flask, session\n",
        "\n",
        "app = Flask(__name__)\n",
        "app.secret_key = 'your_secret_key'\n",
        "\n",
        "@app.route('/login')\n",
        "def login():\n",
        "    session['user'] = 'admin'\n",
        "    return \"Logged in!\"\n",
        "\n",
        "@app.route('/profile')\n",
        "def profile():\n",
        "    return f\"Logged in as: {session.get('user')}\"\n",
        "if __name__ == '__main__':\n",
        "    app.run(debug=True)"
      ],
      "metadata": {
        "colab": {
          "base_uri": "https://localhost:8080/"
        },
        "id": "l0PSldSwWJIG",
        "outputId": "c34fd549-e479-4c4d-a401-1c481225bd0f"
      },
      "execution_count": 59,
      "outputs": [
        {
          "output_type": "stream",
          "name": "stdout",
          "text": [
            " * Serving Flask app '__main__'\n",
            " * Debug mode: on\n"
          ]
        },
        {
          "output_type": "stream",
          "name": "stderr",
          "text": [
            "INFO:werkzeug:\u001b[31m\u001b[1mWARNING: This is a development server. Do not use it in a production deployment. Use a production WSGI server instead.\u001b[0m\n",
            " * Running on http://127.0.0.1:5000\n",
            "INFO:werkzeug:\u001b[33mPress CTRL+C to quit\u001b[0m\n",
            "INFO:werkzeug: * Restarting with watchdog (inotify)\n"
          ]
        }
      ]
    },
    {
      "cell_type": "markdown",
      "source": [
        "# 9. How do you redirect to a different route in Flask?"
      ],
      "metadata": {
        "id": "wHXeKdK_WJfA"
      }
    },
    {
      "cell_type": "code",
      "source": [
        "from flask import Flask, redirect, url_for\n",
        "\n",
        "@app.route('/go-home')\n",
        "def go_home():\n",
        "    return redirect(url_for('home'))\n",
        "\n",
        "@app.route('/')\n",
        "def home():\n",
        "    return \"Welcome to Home Page\"\n",
        "if __name__ == '__main__':\n",
        "    app.run(debug=True)"
      ],
      "metadata": {
        "colab": {
          "base_uri": "https://localhost:8080/"
        },
        "id": "JrwTKo3-WNvK",
        "outputId": "f8994ca2-a537-4f83-aa4b-c28808bb5bcc"
      },
      "execution_count": 60,
      "outputs": [
        {
          "output_type": "stream",
          "name": "stdout",
          "text": [
            " * Serving Flask app '__main__'\n",
            " * Debug mode: on\n"
          ]
        },
        {
          "output_type": "stream",
          "name": "stderr",
          "text": [
            "INFO:werkzeug:\u001b[31m\u001b[1mWARNING: This is a development server. Do not use it in a production deployment. Use a production WSGI server instead.\u001b[0m\n",
            " * Running on http://127.0.0.1:5000\n",
            "INFO:werkzeug:\u001b[33mPress CTRL+C to quit\u001b[0m\n",
            "INFO:werkzeug: * Restarting with watchdog (inotify)\n"
          ]
        }
      ]
    },
    {
      "cell_type": "markdown",
      "source": [
        "# 10. How do you handle errors in Flask (e.g., 404)?"
      ],
      "metadata": {
        "id": "1n8lqV1tWOGk"
      }
    },
    {
      "cell_type": "code",
      "source": [
        "from flask import Flask, render_template\n",
        "\n",
        "app = Flask(__name__)\n",
        "\n",
        "@app.errorhandler(404)\n",
        "def not_found(error):\n",
        "    return \"Oops! Page not found.\", 404\n",
        "\n",
        "@app.route('/')\n",
        "def home():\n",
        "    return \"Welcome to the homepage!\"\n",
        "\n",
        "if __name__ == '__main__':\n",
        "    app.run(debug=True)\n"
      ],
      "metadata": {
        "colab": {
          "base_uri": "https://localhost:8080/"
        },
        "id": "GNun7EwwWRm9",
        "outputId": "38320bd5-1659-4e23-f9ce-8fedda1e7aea"
      },
      "execution_count": 61,
      "outputs": [
        {
          "output_type": "stream",
          "name": "stdout",
          "text": [
            " * Serving Flask app '__main__'\n",
            " * Debug mode: on\n"
          ]
        },
        {
          "output_type": "stream",
          "name": "stderr",
          "text": [
            "INFO:werkzeug:\u001b[31m\u001b[1mWARNING: This is a development server. Do not use it in a production deployment. Use a production WSGI server instead.\u001b[0m\n",
            " * Running on http://127.0.0.1:5000\n",
            "INFO:werkzeug:\u001b[33mPress CTRL+C to quit\u001b[0m\n",
            "INFO:werkzeug: * Restarting with watchdog (inotify)\n"
          ]
        }
      ]
    },
    {
      "cell_type": "markdown",
      "source": [
        "# 11.  How do you structure a Flask app using Blueprints?"
      ],
      "metadata": {
        "id": "10dmodyaWR-o"
      }
    },
    {
      "cell_type": "code",
      "source": [
        "from flask import Blueprint\n",
        "\n",
        "bp = Blueprint('main', __name__)\n",
        "\n",
        "@bp.route('/')\n",
        "def index():\n",
        "    return \"Hello from Blueprint!\"\n",
        "if __name__ == '__main__':\n",
        "    app.run(debug=True)"
      ],
      "metadata": {
        "colab": {
          "base_uri": "https://localhost:8080/"
        },
        "id": "whojrRExWW7v",
        "outputId": "f360265a-cc70-420b-d83f-159577f9b6aa"
      },
      "execution_count": 62,
      "outputs": [
        {
          "output_type": "stream",
          "name": "stdout",
          "text": [
            " * Serving Flask app '__main__'\n",
            " * Debug mode: on\n"
          ]
        },
        {
          "output_type": "stream",
          "name": "stderr",
          "text": [
            "INFO:werkzeug:\u001b[31m\u001b[1mWARNING: This is a development server. Do not use it in a production deployment. Use a production WSGI server instead.\u001b[0m\n",
            " * Running on http://127.0.0.1:5000\n",
            "INFO:werkzeug:\u001b[33mPress CTRL+C to quit\u001b[0m\n",
            "INFO:werkzeug: * Restarting with watchdog (inotify)\n"
          ]
        }
      ]
    },
    {
      "cell_type": "code",
      "source": [
        "from flask import Flask\n",
        "\n",
        "def create_app():\n",
        "    app = Flask(__name__)\n",
        "    app.register_blueprint(bp)\n",
        "    return app\n",
        "if __name__ == '__main__':\n",
        "    app.run(debug=True)"
      ],
      "metadata": {
        "colab": {
          "base_uri": "https://localhost:8080/"
        },
        "id": "dYopBa90a3vl",
        "outputId": "21ba0895-8d70-43f1-bc9c-87034d3421e3"
      },
      "execution_count": 63,
      "outputs": [
        {
          "output_type": "stream",
          "name": "stdout",
          "text": [
            " * Serving Flask app '__main__'\n",
            " * Debug mode: on\n"
          ]
        },
        {
          "output_type": "stream",
          "name": "stderr",
          "text": [
            "INFO:werkzeug:\u001b[31m\u001b[1mWARNING: This is a development server. Do not use it in a production deployment. Use a production WSGI server instead.\u001b[0m\n",
            " * Running on http://127.0.0.1:5000\n",
            "INFO:werkzeug:\u001b[33mPress CTRL+C to quit\u001b[0m\n",
            "INFO:werkzeug: * Restarting with watchdog (inotify)\n"
          ]
        }
      ]
    },
    {
      "cell_type": "code",
      "source": [
        "from app import create_app\n",
        "\n",
        "app = create_app()\n",
        "\n",
        "\n"
      ],
      "metadata": {
        "id": "db23QWrFbsxW"
      },
      "execution_count": null,
      "outputs": []
    },
    {
      "cell_type": "markdown",
      "source": [
        "# 12. How do you define a custom Jinja filter in Flask?"
      ],
      "metadata": {
        "id": "WLRB1L8UWXga"
      }
    },
    {
      "cell_type": "code",
      "source": [
        "from flask import Flask, render_template\n",
        "\n",
        "app = Flask(__name__)\n",
        "\n",
        "# Define the custom filter function\n",
        "@app.template_filter('reverse')\n",
        "def reverse_filter(s):\n",
        "    return s[::-1]\n",
        "\n",
        "@app.route('/')\n",
        "def home():\n",
        "    return render_template('index.html', word=\"Flask\")\n",
        "\n",
        "if __name__ == '__main__':\n",
        "    app.run(debug=True)\n",
        "\n"
      ],
      "metadata": {
        "colab": {
          "base_uri": "https://localhost:8080/"
        },
        "id": "mmfIKDN4Wbmo",
        "outputId": "f75cfe60-f144-4405-acd6-9a2cdbddd733"
      },
      "execution_count": 64,
      "outputs": [
        {
          "output_type": "stream",
          "name": "stdout",
          "text": [
            " * Serving Flask app '__main__'\n",
            " * Debug mode: on\n"
          ]
        },
        {
          "output_type": "stream",
          "name": "stderr",
          "text": [
            "INFO:werkzeug:\u001b[31m\u001b[1mWARNING: This is a development server. Do not use it in a production deployment. Use a production WSGI server instead.\u001b[0m\n",
            " * Running on http://127.0.0.1:5000\n",
            "INFO:werkzeug:\u001b[33mPress CTRL+C to quit\u001b[0m\n",
            "INFO:werkzeug: * Restarting with watchdog (inotify)\n"
          ]
        }
      ]
    },
    {
      "cell_type": "markdown",
      "source": [
        "# 13.  How can you redirect with query parameters in Flask?"
      ],
      "metadata": {
        "id": "PSN2uU-EWb8P"
      }
    },
    {
      "cell_type": "code",
      "source": [
        "from flask import Flask, redirect, url_for, request\n",
        "\n",
        "app = Flask(__name__)\n",
        "\n",
        "@app.route('/redirect-to-search')\n",
        "def redirect_to_search():\n",
        "    # Redirect to the 'search' route with a query parameter 'q=flask'\n",
        "    return redirect(url_for('search', q='flask'))\n",
        "\n",
        "@app.route('/search')\n",
        "def search():\n",
        "    query = request.args.get('q')  # Get the query parameter from the URL\n",
        "    return f\"Search results for: {query}\"\n",
        "\n",
        "if __name__ == '__main__':\n",
        "    app.run(debug=True)\n"
      ],
      "metadata": {
        "colab": {
          "base_uri": "https://localhost:8080/"
        },
        "id": "eAD_Lg6sWhXA",
        "outputId": "647ac7b6-6ebd-4e8b-a08e-4f31d3367424"
      },
      "execution_count": 65,
      "outputs": [
        {
          "output_type": "stream",
          "name": "stdout",
          "text": [
            " * Serving Flask app '__main__'\n",
            " * Debug mode: on\n"
          ]
        },
        {
          "output_type": "stream",
          "name": "stderr",
          "text": [
            "INFO:werkzeug:\u001b[31m\u001b[1mWARNING: This is a development server. Do not use it in a production deployment. Use a production WSGI server instead.\u001b[0m\n",
            " * Running on http://127.0.0.1:5000\n",
            "INFO:werkzeug:\u001b[33mPress CTRL+C to quit\u001b[0m\n",
            "INFO:werkzeug: * Restarting with watchdog (inotify)\n"
          ]
        }
      ]
    },
    {
      "cell_type": "markdown",
      "source": [
        "# 14.  How do you return JSON responses in Flask?\n"
      ],
      "metadata": {
        "id": "MoG3F6fSWhwP"
      }
    },
    {
      "cell_type": "code",
      "source": [
        "from flask import Flask, jsonify\n",
        "\n",
        "app = Flask(__name__)\n",
        "\n",
        "@app.route('/api/data')\n",
        "def api_data():\n",
        "    data = {\n",
        "        \"name\": \"Flask\",\n",
        "        \"version\": \"2.0\",\n",
        "        \"features\": [\"lightweight\", \"flexible\", \"easy to use\"]\n",
        "    }\n",
        "    return jsonify(data)\n",
        "\n",
        "if __name__ == '__main__':\n",
        "    app.run(debug=True)\n",
        "\n"
      ],
      "metadata": {
        "colab": {
          "base_uri": "https://localhost:8080/"
        },
        "id": "jTGUIY3nWphB",
        "outputId": "46803e7c-57be-486c-ad79-720451b219fe"
      },
      "execution_count": 66,
      "outputs": [
        {
          "output_type": "stream",
          "name": "stdout",
          "text": [
            " * Serving Flask app '__main__'\n",
            " * Debug mode: on\n"
          ]
        },
        {
          "output_type": "stream",
          "name": "stderr",
          "text": [
            "INFO:werkzeug:\u001b[31m\u001b[1mWARNING: This is a development server. Do not use it in a production deployment. Use a production WSGI server instead.\u001b[0m\n",
            " * Running on http://127.0.0.1:5000\n",
            "INFO:werkzeug:\u001b[33mPress CTRL+C to quit\u001b[0m\n",
            "INFO:werkzeug: * Restarting with watchdog (inotify)\n"
          ]
        }
      ]
    },
    {
      "cell_type": "markdown",
      "source": [
        "# 15.  How do you capture URL parameters in Flask?"
      ],
      "metadata": {
        "id": "D276wehzWp6y"
      }
    },
    {
      "cell_type": "code",
      "source": [
        "from flask import Flask\n",
        "\n",
        "app = Flask(__name__)\n",
        "\n",
        "@app.route('/user/<username>')\n",
        "def show_user(username):\n",
        "    return f\"User profile for {username}\"\n",
        "\n",
        "if __name__ == '__main__':\n",
        "    app.run(debug=True)\n"
      ],
      "metadata": {
        "colab": {
          "base_uri": "https://localhost:8080/"
        },
        "id": "92AKMwvJWq8p",
        "outputId": "742b96a8-87ea-4bac-8c09-d1a456ad82e8"
      },
      "execution_count": 67,
      "outputs": [
        {
          "output_type": "stream",
          "name": "stdout",
          "text": [
            " * Serving Flask app '__main__'\n",
            " * Debug mode: on\n"
          ]
        },
        {
          "output_type": "stream",
          "name": "stderr",
          "text": [
            "INFO:werkzeug:\u001b[31m\u001b[1mWARNING: This is a development server. Do not use it in a production deployment. Use a production WSGI server instead.\u001b[0m\n",
            " * Running on http://127.0.0.1:5000\n",
            "INFO:werkzeug:\u001b[33mPress CTRL+C to quit\u001b[0m\n",
            "INFO:werkzeug: * Restarting with watchdog (inotify)\n"
          ]
        }
      ]
    }
  ]
}